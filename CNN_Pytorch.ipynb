{
 "cells": [
  {
   "cell_type": "markdown",
   "id": "b01786b3-7f37-4b62-a04d-1ec0a308aea9",
   "metadata": {},
   "source": [
    "## Convolution Neural Networks"
   ]
  },
  {
   "cell_type": "code",
   "execution_count": 1,
   "id": "0bcd4d1a-b1fd-4a9a-a083-895d7a22bf4a",
   "metadata": {},
   "outputs": [],
   "source": [
    "import os\n",
    "import numpy as np\n",
    "import torch\n",
    "import cv2\n",
    "from tqdm import tqdm\n",
    "\n",
    "Rebuild_Data = False"
   ]
  },
  {
   "cell_type": "code",
   "execution_count": 2,
   "id": "284794a9-0ce8-40b8-8b9a-23b2bd5dea2f",
   "metadata": {},
   "outputs": [
    {
     "data": {
      "text/plain": [
       "array([[1., 0.],\n",
       "       [0., 1.]])"
      ]
     },
     "execution_count": 2,
     "metadata": {},
     "output_type": "execute_result"
    }
   ],
   "source": [
    "np.eye(2)"
   ]
  },
  {
   "cell_type": "code",
   "execution_count": 3,
   "id": "20e9f1c0-6c18-4462-b949-15253047af13",
   "metadata": {
    "scrolled": true
   },
   "outputs": [],
   "source": [
    "import os\n",
    "import cv2\n",
    "import numpy as np\n",
    "from tqdm import tqdm\n",
    "\n",
    "class DogsVSCats:\n",
    "    IMG_SIZE = (50, 50)\n",
    "    CATS = \"../PetImages/Cat\"\n",
    "    DOGS = \"../PetImages/Dog\"\n",
    "    LABELS = {CATS: 0, DOGS: 1}\n",
    "\n",
    "    def __init__(self):\n",
    "        self.training_data = []\n",
    "        self.catcount = 0\n",
    "        self.dogcount = 0\n",
    "        self.hg_data = []\n",
    "\n",
    "    def make_training_data(self):\n",
    "        for label in self.LABELS:\n",
    "            print(label)\n",
    "            for f in tqdm(os.listdir(label)):\n",
    "                path = os.path.join(label, f)\n",
    "                img = cv2.imread(path, cv2.IMREAD_GRAYSCALE)\n",
    "                one_hot_label = np.eye(2)[self.LABELS[label]]\n",
    "               \n",
    "\n",
    "                if img is not None:\n",
    "                    try:\n",
    "                        img = cv2.resize(img, self.IMG_SIZE)\n",
    "                    except Exception as e:\n",
    "                        print(f\"Failed to process {f}: {e}\")\n",
    "                        continue  # Skip this image if an error occurs\n",
    "                    self.training_data.append(np.array([np.array(img), one_hot_label],dtype=\"object\"))\n",
    "                    if label == self.CATS:\n",
    "                        self.catcount += 1\n",
    "                    elif label == self.DOGS:\n",
    "                        self.dogcount += 1\n",
    "\n",
    "        for data in tqdm(self.training_data):\n",
    "            if (len(data) == 2 and isinstance(data[0], np.ndarray) and data[0].shape == self.IMG_SIZE and isinstance(data[1], np.ndarray) and data[1].shape == (2,)):\n",
    "                self.hg_data.append(data)\n",
    "            else:\n",
    "                print(f\"Skipping inhomogeneous element: {data}\")\n",
    "\n",
    "        # Save the homogeneous data with allow_pickle=True\n",
    "        np.save(\"../training_data.npy\",self.hg_data, allow_pickle=True)\n",
    "        print(\"Cats:\", self.catcount)\n",
    "        print(\"Dogs:\", self.dogcount)\n",
    "\n",
    "# Example usage\n",
    "Rebuild_Data = False\n",
    "if Rebuild_Data:\n",
    "    dataset = DogsVSCats()\n",
    "    dataset.make_training_data()"
   ]
  },
  {
   "cell_type": "code",
   "execution_count": 4,
   "id": "4e86f68d-35d1-44c1-be2e-354b661b4c97",
   "metadata": {},
   "outputs": [],
   "source": [
    "training_data = np.load(\"../training_data.npy\",allow_pickle=True)"
   ]
  },
  {
   "cell_type": "code",
   "execution_count": 5,
   "id": "f2a1c759-92f5-4bc7-bae1-7827aec7fa0c",
   "metadata": {},
   "outputs": [
    {
     "name": "stdout",
     "output_type": "stream",
     "text": [
      "24946\n"
     ]
    }
   ],
   "source": [
    "print(len(training_data))"
   ]
  },
  {
   "cell_type": "code",
   "execution_count": 6,
   "id": "fa5d7f35-5f6e-4853-a31b-65fd48a0d76b",
   "metadata": {},
   "outputs": [
    {
     "name": "stdout",
     "output_type": "stream",
     "text": [
      "[array([[ 44,  60,  41, ...,  95,  94, 197],\n",
      "        [ 41,  43,  43, ...,  93,  80, 192],\n",
      "        [ 41,  40,  46, ...,  90,  86, 193],\n",
      "        ...,\n",
      "        [ 25,  21,  26, ...,  43,  67,  73],\n",
      "        [ 21,  23,  21, ...,  74,  36,  89],\n",
      "        [ 23,  22,  20, ...,  59,  62,  32]], dtype=uint8) array([1., 0.])]\n"
     ]
    }
   ],
   "source": [
    "print(training_data[1])"
   ]
  },
  {
   "cell_type": "code",
   "execution_count": 7,
   "id": "c6b60446-a640-45a3-a404-97bc8f7c8c60",
   "metadata": {},
   "outputs": [
    {
     "data": {
      "text/plain": [
       "<function matplotlib.pyplot.show(close=None, block=None)>"
      ]
     },
     "execution_count": 7,
     "metadata": {},
     "output_type": "execute_result"
    },
    {
     "data": {
      "image/png": "[encoded data removed]",
      "text/plain": [
       "<Figure size 640x480 with 1 Axes>"
      ]
     },
     "metadata": {},
     "output_type": "display_data"
    }
   ],
   "source": [
    "import matplotlib.pyplot as plt\n",
    "\n",
    "plt.imshow(training_data[11][0],cmap=\"gray\")\n",
    "plt.show"
   ]
  },
  {
   "cell_type": "markdown",
   "id": "ae6cd56a-eaa4-4fdf-a612-6f89894313e2",
   "metadata": {},
   "source": [
    "## Model Creation"
   ]
  },
  {
   "cell_type": "code",
   "execution_count": 8,
   "id": "97facfe7-1655-4eb7-9fdd-2a9a5602a651",
   "metadata": {},
   "outputs": [
    {
     "name": "stdout",
     "output_type": "stream",
     "text": [
      "Input shape: torch.Size([1, 1, 50, 50])\n",
      "After conv1: torch.Size([1, 32, 46, 46])\n",
      "After pool1: torch.Size([1, 32, 23, 23])\n",
      "After conv2: torch.Size([1, 64, 19, 19])\n",
      "After pool2: torch.Size([1, 64, 9, 9])\n",
      "After conv3: torch.Size([1, 128, 5, 5])\n",
      "After pool3: torch.Size([1, 128, 2, 2])\n",
      "After flatten: torch.Size([1, 512])\n",
      "After fc1: torch.Size([1, 16])\n",
      "After fc2: torch.Size([1, 2])\n",
      "Output: tensor([[-0.0262,  0.1153]], grad_fn=<AddmmBackward0>)\n"
     ]
    }
   ],
   "source": [
    "import torch\n",
    "import torch.nn as nn\n",
    "import torch.nn.functional as F\n",
    "\n",
    "class Net(nn.Module):\n",
    "    def __init__(self):\n",
    "        super(Net, self).__init__()\n",
    "        self.conv1 = nn.Conv2d(1, 32, 5, 1)  # 5x5 kernel, 1 input channel, 32 output channels\n",
    "        self.conv2 = nn.Conv2d(32, 64, 5, 1) # 5x5 kernel, 32 input channels, 64 output channels\n",
    "        self.conv3 = nn.Conv2d(64, 128, 5, 1) # 5x5 kernel, 64 input channels, 128 output channels\n",
    "        # Calculate the flattened size after conv and pooling layers.\n",
    "        self.fc1 = nn.Linear(128 * 2 * 2, 16)  # Update the input size accordingly\n",
    "        self.fc2 = nn.Linear(16, 2)\n",
    "\n",
    "    def forward(self, x):\n",
    "        print(\"Input shape:\", x.shape)\n",
    "        x = F.relu(self.conv1(x))\n",
    "        print(\"After conv1:\", x.shape)\n",
    "        x = F.max_pool2d(x, 2, 2)\n",
    "        print(\"After pool1:\", x.shape)\n",
    "        x = F.relu(self.conv2(x))\n",
    "        print(\"After conv2:\", x.shape)\n",
    "        x = F.max_pool2d(x, 2, 2)\n",
    "        print(\"After pool2:\", x.shape)\n",
    "        x = F.relu(self.conv3(x))\n",
    "        print(\"After conv3:\", x.shape)\n",
    "        x = F.max_pool2d(x, 2, 2)\n",
    "        print(\"After pool3:\", x.shape)\n",
    "        x = x.view(-1, 128 * 2 * 2)  # Flatten the tensor\n",
    "        print(\"After flatten:\", x.shape)\n",
    "        x = F.relu(self.fc1(x))\n",
    "        print(\"After fc1:\", x.shape)\n",
    "        x = self.fc2(x)\n",
    "        print(\"After fc2:\", x.shape)\n",
    "        return x\n",
    "\n",
    "# Example usage\n",
    "net = Net()\n",
    "\n",
    "# Create a dummy input tensor with shape (batch_size, channels, height, width)\n",
    "dummy_input = torch.randn(1, 1, 50, 50)  # Batch size of 1, 1 channel, 50x50 image\n",
    "\n",
    "output = net.forward(dummy_input)\n",
    "print(\"Output:\", output)\n"
   ]
  },
  {
   "cell_type": "markdown",
   "id": "447683ad-da37-40d9-8158-6062b1e4da24",
   "metadata": {},
   "source": [
    "#\n",
    "#\n",
    "# Hidden Layers\n",
    "\n",
    "**Role:**\n",
    "- The hidden layers transform the input data into a space where the patterns relevant to the problem can be more easily separated.\n",
    "- These layers create complex, non-linear mappings of the input data.\n",
    "\n",
    "## **Common Activation Functions:**\n",
    "## $ \\text{ReLU}(x) = \\max(0, x) $\n",
    "  - Pros: Helps with the vanishing gradient problem, computationally efficient.\n",
    "  - Cons: Can suffer from the \"dying ReLU\" problem where neurons can get stuck during training.\n",
    "## $ \\text{Sigmoid}(x) = \\frac{1}{1 + e^{-x}} $\n",
    "  - Pros: Outputs values between 0 and 1, can be interpreted as probabilities.\n",
    "  - Cons: Can cause vanishing gradient problems.\n",
    "## $ \\text{Tanh}(x) =  \\frac{e^x - e^{-x}}{e^x + e^{-x}} $\n",
    "  - Pros: Outputs values between -1 and 1, zero-centered.\n",
    "  - Cons: Also suffers from vanishing gradient issues.\n",
    "\n",
    "# Output Layers\n",
    "\n",
    "**Role:**\n",
    "- The output layer produces the final result of the neural network, which could be a classification, a regression value, etc.\n",
    "- Different problems require different output ranges and interpretations.\n",
    "\n",
    "# **Common Activation Functions for Output Layers:**\n",
    "## **Softmax:** Typically used in multi-class classification problems.\n",
    "> ## $ \\text{Softmax}(x_i) = \\frac{e^{x_i}}{\\sum_{j} e^{x_j}} $\n",
    "  - Pros: Converts logits into probabilities that sum to 1.\n",
    "  - Cons: Not suitable for regression tasks.\n",
    "## **Sigmoid:** Often used in binary classification problems.\n",
    "> ## $ \\text{Sigmoid}(x) = \\frac{1}{1 + e^{-x}} $\n",
    "  - Pros: Outputs values between 0 and 1.\n",
    "  - Cons: Limited to binary outcomes.\n",
    "## **Linear:** Used in regression problems.\n",
    "> ## $ \\text{Linear}(x) = x $\n",
    "  - Pros: Suitable for predicting continuous values.\n",
    "  - Cons: Not suitable for classification tasks.\n",
    "\n",
    "# Why Not Use ReLU in the Output Layer?\n",
    "\n",
    "**ReLU Characteristics:**\n",
    "- Outputs any positive value as itself and zero for any negative input.\n",
    "- Not bounded, meaning its output range is $[0, \\infty)$.\n",
    "\n",
    "**Example:**\n",
    "\n",
    "1. **Classification Problem:**\n",
    "   - If you use ReLU in the output layer for a classification problem (e.g., a multi-class classification task), you would get non-negative outputs but not probabilities. Classification typically requires interpreting the output as probabilities, which should sum to 1. ReLU cannot naturally enforce this constraint, unlike the Softmax function.\n",
    "\n",
    "2. **Regression Problem:**\n",
    "   - For regression tasks, using ReLU could limit the range of the output to non-negative values only. This might not be desirable if the target values can be negative. For example, predicting house prices could work with ReLU if prices are always positive, but predicting temperature, which can be negative, would be inappropriate with ReLU.\n",
    "\n",
    "### Detailed Example: Multi-Class Classification\n",
    "\n",
    "Consider a neural network designed to classify images into one of three categories: Cat, Dog, and Bird. The final layer must output a probability distribution over these three classes.\n",
    "\n",
    "**Using ReLU in the Output Layer:**\n",
    "- The network might output values like [2.5, 0, 3.7] for an input image.\n",
    "- These values are not probabilities and do not sum to 1.\n",
    "- There's no straightforward way to interpret these values as the likelihood of each class.\n",
    "\n",
    "**Using Softmax in the Output Layer:**\n",
    "- The network might output logits [2.5, 0, 3.7].\n",
    "- After applying Softmax, these logits might convert to probabilities like [0.28, 0.01, 0.71].\n",
    "- These probabilities sum to 1, making it clear that the model predicts \"Bird\" with 71% confidence.\n",
    "\n",
    "### Conclusion\n",
    "\n",
    "The choice of activation function in the output layer is crucial and must align with the problem requirements. While ReLU is excellent for hidden layers due to its properties that help mitigate issues like the vanishing gradient problem, it is not suitable for output layers in many cases because it does not provide a bounded, interpretable output suitable for classification or regression tasks. Different tasks necessitate different activation functions to ensure the outputs are meaningful and useful for the specific application."
   ]
  },
  {
   "cell_type": "code",
   "execution_count": 9,
   "id": "56831888-46f8-4351-8d8e-aa5948188a97",
   "metadata": {},
   "outputs": [
    {
     "name": "stdout",
     "output_type": "stream",
     "text": [
      "Net(\n",
      "  (conv1): Conv2d(1, 32, kernel_size=(5, 5), stride=(1, 1))\n",
      "  (conv2): Conv2d(32, 64, kernel_size=(5, 5), stride=(1, 1))\n",
      "  (conv3): Conv2d(64, 128, kernel_size=(5, 5), stride=(1, 1))\n",
      "  (fc1): Linear(in_features=512, out_features=512, bias=True)\n",
      "  (fc2): Linear(in_features=512, out_features=2, bias=True)\n",
      ")\n",
      "Output: tensor([[0.4988, 0.5012]], grad_fn=<SoftmaxBackward0>)\n"
     ]
    }
   ],
   "source": [
    "import torch\n",
    "import torch.nn as nn\n",
    "import torch.nn.functional as F\n",
    "\n",
    "# class Net(nn.Module):\n",
    "#     def __init__(self):\n",
    "#         super(Net, self).__init__()\n",
    "#         self.conv1 = nn.Conv2d(1, 32, 5, 1)  # 5x5 kernel, 1 input channel, 32 output channels\n",
    "#         self.conv2 = nn.Conv2d(32, 64, 5, 1) # 5x5 kernel, 32 input channels, 64 output channels\n",
    "#         self.conv3 = nn.Conv2d(64, 128, 5, 1) # 5x5 kernel, 64 input channels, 128 output channels\n",
    "#         # Calculate the flattened size after conv and pooling layers.\n",
    "#         self.fc1 = nn.Linear(128 * 2 * 2, 16)  # Update the input size accordingly\n",
    "#         self.fc2 = nn.Linear(16, 2)\n",
    "\n",
    "#     def forward(self, x):\n",
    "#         x = F.relu(self.conv1(x))\n",
    "#         x = F.max_pool2d(x, 2, 2)\n",
    "#         x = F.relu(self.conv2(x))\n",
    "#         x = F.max_pool2d(x, 2, 2)\n",
    "#         x = F.relu(self.conv3(x))\n",
    "#         x = F.max_pool2d(x, 2, 2)\n",
    "#         x = x.view(-1, 128 * 2 * 2)  \n",
    "#         x = F.relu(self.fc1(x))\n",
    "#         x = self.fc2(x)\n",
    "#         return F.softmax(x,dim=1)\n",
    "\n",
    "# # Example usage\n",
    "# net = Net()\n",
    "\n",
    "\n",
    "class Net(nn.Module):\n",
    "    def __init__(self):\n",
    "        super().__init__() # just run the init of parent class (nn.Module)\n",
    "        self.conv1 = nn.Conv2d(1, 32, 5) # input is 1 image, 32 output channels, 5x5 kernel / window\n",
    "        self.conv2 = nn.Conv2d(32, 64, 5) # input is 32, bc the first layer output 32. Then we say the output will be 64 channels, 5x5 kernel / window\n",
    "        self.conv3 = nn.Conv2d(64, 128, 5)\n",
    "\n",
    "        x = torch.randn(50,50).view(-1,1,50,50)\n",
    "        self._to_linear = None\n",
    "        self.convs(x)\n",
    "\n",
    "        self.fc1 = nn.Linear(self._to_linear, 512) #flattening.\n",
    "        self.fc2 = nn.Linear(512, 2) # 512 in, 2 out bc we're doing 2 classes (dog vs cat).\n",
    "\n",
    "    def convs(self, x):\n",
    "        # max pooling over 2x2\n",
    "        x = F.max_pool2d(F.relu(self.conv1(x)), (2, 2))\n",
    "        x = F.max_pool2d(F.relu(self.conv2(x)), (2, 2))\n",
    "        x = F.max_pool2d(F.relu(self.conv3(x)), (2, 2))\n",
    "\n",
    "        if self._to_linear is None:\n",
    "            self._to_linear = x[0].shape[0]*x[0].shape[1]*x[0].shape[2]\n",
    "        return x\n",
    "\n",
    "    def forward(self, x):\n",
    "        x = self.convs(x)\n",
    "        x = x.view(-1, self._to_linear)  # .view is reshape ... this flattens X before \n",
    "        x = F.relu(self.fc1(x))\n",
    "        x = self.fc2(x) # bc this is our output layer. No activation here.\n",
    "        return F.softmax(x, dim=1)\n",
    "\n",
    "\n",
    "net = Net()\n",
    "print(net)\n",
    "# Create a dummy input tensor with shape (batch_size, channels, height, width)\n",
    "dummy_input = torch.randn(1, 1, 50, 50)  # Batch size of 1, 1 channel, 50x50 image\n",
    "\n",
    "output = net.forward(dummy_input)\n",
    "print(\"Output:\", output)\n"
   ]
  },
  {
   "cell_type": "code",
   "execution_count": 10,
   "id": "c82cda75-482a-4a7f-90f7-cd9dfc017bc2",
   "metadata": {},
   "outputs": [
    {
     "name": "stderr",
     "output_type": "stream",
     "text": [
      "C:\\Users\\opdar\\AppData\\Local\\Programs\\Python\\Python311\\Lib\\site-packages\\tqdm\\auto.py:21: TqdmWarning: IProgress not found. Please update jupyter and ipywidgets. See https://ipywidgets.readthedocs.io/en/stable/user_install.html\n",
      "  from .autonotebook import tqdm as notebook_tqdm\n",
      "C:\\Users\\opdar\\AppData\\Local\\Programs\\Python\\Python311\\Lib\\site-packages\\transformers\\utils\\generic.py:441: UserWarning: torch.utils._pytree._register_pytree_node is deprecated. Please use torch.utils._pytree.register_pytree_node instead.\n",
      "  _torch_pytree._register_pytree_node(\n"
     ]
    }
   ],
   "source": [
    "import torch.optim as optim\n",
    "\n",
    "optimizer = optim.Adam(net.parameters(),0.0001)\n",
    "loss_function = nn.MSELoss()\n"
   ]
  },
  {
   "cell_type": "code",
   "execution_count": 11,
   "id": "4f46b446-ba88-400f-807f-c946b879440d",
   "metadata": {},
   "outputs": [
    {
     "name": "stderr",
     "output_type": "stream",
     "text": [
      "C:\\Users\\opdar\\AppData\\Local\\Temp\\ipykernel_18664\\3353633519.py:1: UserWarning: Creating a tensor from a list of numpy.ndarrays is extremely slow. Please consider converting the list to a single numpy.ndarray with numpy.array() before converting to a tensor. (Triggered internally at ..\\torch\\csrc\\utils\\tensor_new.cpp:278.)\n",
      "  X = torch.Tensor([i[0] for i in training_data]).view(-1,50,50)\n"
     ]
    }
   ],
   "source": [
    "X = torch.Tensor([i[0] for i in training_data]).view(-1,50,50)\n",
    "X = X/255.0\n",
    "y = torch.Tensor([i[1] for i in training_data])"
   ]
  },
  {
   "cell_type": "code",
   "execution_count": 12,
   "id": "a2ad9152-464c-47ad-9146-53cef3eaabc8",
   "metadata": {},
   "outputs": [
    {
     "name": "stdout",
     "output_type": "stream",
     "text": [
      "2494\n"
     ]
    }
   ],
   "source": [
    "VAL_PCT = 0.1  # lets reserve 10% of our data for validation\n",
    "val_size = int(len(X)*VAL_PCT)\n",
    "print(val_size)"
   ]
  },
  {
   "cell_type": "code",
   "execution_count": null,
   "id": "cae847a5-6298-4488-afa9-0d56b3ec1ef0",
   "metadata": {},
   "outputs": [],
   "source": [
    "from sklearn.model_selection import train_test_split\n",
    "\n",
    "# Split the data into training and testing sets\n",
    "train_X, test_X, train_y, test_y = train_test_split(X, y, test_size=val_size, random_state=42)\n",
    "\n",
    "# train_X and train_y will contain data for training\n",
    "# test_X and test_y will contain data for testing\n"
   ]
  },
  {
   "cell_type": "markdown",
   "id": "0b77ad59-8fc2-4da8-b6c7-51927cbebbe8",
   "metadata": {},
   "source": [
    "The main difference between `model.zero_grads()` and `optimizer.zero_grads()` lies in the scope of the operation:\r\n",
    "\r\n",
    "- `model.zero_grads()`: This method zeroes the gradients of all parameters in the model. It directly operates on the model itself, making it suitable for cases where you want to manually manage the gradient clearing process within the model.\r\n",
    "\r\n",
    "- `optimizer.zero_grads()`: On the other hand, this method zeroes the gradients of only the parameters that the optimizer is responsible for updating. It operates on the optimizer object and is commonly used during the training loop after the backward pass to clear gradients before the optimizer updates the model parametmized."
   ]
  },
  {
   "cell_type": "code",
   "execution_count": null,
   "id": "f973efb3-d5e5-4d71-b989-167da8f9f684",
   "metadata": {},
   "outputs": [],
   "source": [
    "BATCH_SIZE = 100\n",
    "EPOCHS = 1\n",
    "\n",
    "for epoch in range(EPOCHS):\n",
    "    for i in tqdm(range(0, len(train_X), BATCH_SIZE)): # from 0, to the len of x, stepping BATCH_SIZE at a time. [:50] ..for now just to dev\n",
    "        #print(f\"{i}:{i+BATCH_SIZE}\")\n",
    "        batch_X = train_X[i:i+BATCH_SIZE].view(-1, 1, 50, 50)\n",
    "        batch_y = train_y[i:i+BATCH_SIZE]\n",
    "        net.zero_grad()\n",
    "\n",
    "        outputs = net(batch_X)\n",
    "        loss = loss_function(outputs, batch_y)\n",
    "        if i%10000==0:\n",
    "            print(batch_X)\n",
    "            print(outputs,batch_y)\n",
    "            print(f\"Epoch: {epoch}. Loss: {loss}\")\n",
    "        loss.backward()\n",
    "        optimizer.step()    # Does the update\n"
   ]
  },
  {
   "cell_type": "code",
   "execution_count": null,
   "id": "055558b6-d709-411e-bd66-cc9b1a413723",
   "metadata": {},
   "outputs": [],
   "source": [
    "correct = 0\n",
    "total = 0\n",
    "with torch.no_grad():\n",
    "    for i in tqdm(range(len(test_X))):\n",
    "        real_class = torch.argmax(test_y[i])\n",
    "        net_out = net(test_X[i].view(-1, 1, 50, 50))[0]  # returns a list, \n",
    "        predicted_class = torch.argmax(net_out)\n",
    "\n",
    "        if predicted_class == real_class:\n",
    "            correct += 1\n",
    "        total += 1\n",
    "print(\"Accuracy: \", round(correct/total, 3))"
   ]
  },
  {
   "cell_type": "code",
   "execution_count": null,
   "id": "0b7eaf01-6b62-466f-9211-e57fe1ae13ae",
   "metadata": {},
   "outputs": [],
   "source": []
  }
 ],
 "metadata": {
  "kernelspec": {
   "display_name": "Python 3 (ipykernel)",
   "language": "python",
   "name": "python3"
  },
  "language_info": {
   "codemirror_mode": {
    "name": "ipython",
    "version": 3
   },
   "file_extension": ".py",
   "mimetype": "text/x-python",
   "name": "python",
   "nbconvert_exporter": "python",
   "pygments_lexer": "ipython3",
   "version": "3.11.3"
  }
 },
 "nbformat": 4,
 "nbformat_minor": 5
}
