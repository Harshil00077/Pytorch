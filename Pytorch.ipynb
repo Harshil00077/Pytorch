{
 "cells": [
  {
   "cell_type": "code",
   "execution_count": 13,
   "id": "c677f8af-bf46-41b3-b991-2b2dc684d361",
   "metadata": {},
   "outputs": [
    {
     "name": "stdout",
     "output_type": "stream",
     "text": [
      "tensor([10.,  3.])\n"
     ]
    }
   ],
   "source": [
    "import torch\n",
    "\n",
    "x = torch.Tensor([5,3])\n",
    "y = torch.Tensor([2,1])\n",
    "\n",
    "print(x*y) "
   ]
  },
  {
   "cell_type": "code",
   "execution_count": 14,
   "id": "fa0eb1eb-1fe3-48f7-9086-71c652692ed5",
   "metadata": {},
   "outputs": [
    {
     "name": "stdout",
     "output_type": "stream",
     "text": [
      "tensor([[0., 0., 0., 0., 0.],\n",
      "        [0., 0., 0., 0., 0.]]) \n",
      " torch.Size([2, 5])\n"
     ]
    }
   ],
   "source": [
    "x = torch.zeros([2,5])\n",
    "print(x,\"\\n\",x.shape)"
   ]
  },
  {
   "cell_type": "code",
   "execution_count": 15,
   "id": "c70a716b-a821-4f9b-8191-98a6c399e8e7",
   "metadata": {},
   "outputs": [
    {
     "data": {
      "text/plain": [
       "tensor([[0.8534, 0.8300, 0.5476, 0.9083, 0.6344],\n",
       "        [0.4390, 0.0590, 0.9487, 0.5176, 0.9437]])"
      ]
     },
     "execution_count": 15,
     "metadata": {},
     "output_type": "execute_result"
    }
   ],
   "source": [
    "y = torch.rand([2,5])\n",
    "y"
   ]
  },
  {
   "cell_type": "code",
   "execution_count": 16,
   "id": "f3503709-e51a-4a6f-9266-fbf5a1326698",
   "metadata": {},
   "outputs": [
    {
     "data": {
      "text/plain": [
       "tensor([[0.8534, 0.8300, 0.5476, 0.9083, 0.6344, 0.4390, 0.0590, 0.9487, 0.5176,\n",
       "         0.9437]])"
      ]
     },
     "execution_count": 16,
     "metadata": {},
     "output_type": "execute_result"
    }
   ],
   "source": [
    "y.view([1,10])"
   ]
  },
  {
   "cell_type": "code",
   "execution_count": 17,
   "id": "68d9dded-6b59-48a2-a445-2efb41d17232",
   "metadata": {},
   "outputs": [
    {
     "name": "stdout",
     "output_type": "stream",
     "text": [
      "tensor([[0.8534, 0.8300, 0.5476, 0.9083, 0.6344],\n",
      "        [0.4390, 0.0590, 0.9487, 0.5176, 0.9437]])\n"
     ]
    }
   ],
   "source": [
    "print(y) # y is same as before"
   ]
  },
  {
   "cell_type": "code",
   "execution_count": 18,
   "id": "56e38bad-352e-4bd1-b067-bc0b3921f460",
   "metadata": {},
   "outputs": [
    {
     "data": {
      "text/plain": [
       "tensor([0.8534, 0.8300, 0.5476, 0.9083, 0.6344, 0.4390, 0.0590, 0.9487, 0.5176,\n",
       "        0.9437])"
      ]
     },
     "execution_count": 18,
     "metadata": {},
     "output_type": "execute_result"
    }
   ],
   "source": [
    "y.flatten()"
   ]
  },
  {
   "cell_type": "code",
   "execution_count": 19,
   "id": "bfacb01e-a1b2-41ba-88fa-c04312078a85",
   "metadata": {},
   "outputs": [
    {
     "name": "stdout",
     "output_type": "stream",
     "text": [
      "tensor([[0.8534, 0.8300, 0.5476, 0.9083, 0.6344],\n",
      "        [0.4390, 0.0590, 0.9487, 0.5176, 0.9437]])\n"
     ]
    }
   ],
   "source": [
    "print(y) # still same as before"
   ]
  },
  {
   "cell_type": "code",
   "execution_count": 20,
   "id": "47dfe397-d6d4-496d-869b-ec1248f45ca0",
   "metadata": {},
   "outputs": [],
   "source": [
    "# import torch\n",
    "\n",
    "# # Check if CUDA (GPU) is available\n",
    "# if torch.cuda.is_available():\n",
    "#     print(\"CUDA is available. GPU is available.\")\n",
    "#     print(f\"Number of GPUs available: {torch.cuda.device_count()}\")\n",
    "#     print(f\"Current GPU: {torch.cuda.get_device_name(torch.cuda.current_device())}\")\n",
    "# else:\n",
    "#     print(\"CUDA is not available. GPU is not available.\")\n"
   ]
  },
  {
   "cell_type": "code",
   "execution_count": 21,
   "id": "1ff0535b-9b40-40e3-a5fd-f95b69e1fe7e",
   "metadata": {},
   "outputs": [],
   "source": [
    "import torch\n",
    "import torchvision\n",
    "\n",
    "from torchvision import transforms, datasets"
   ]
  },
  {
   "cell_type": "code",
   "execution_count": 22,
   "id": "116d442f-2eae-4402-9f31-77537c877ab6",
   "metadata": {},
   "outputs": [],
   "source": [
    "from torchvision import transforms\n",
    "\n",
    "transform = transforms.Compose([\n",
    "    transforms.ToTensor()\n",
    "])\n",
    "\n",
    "train = datasets.MNIST('', train=True, download=True,\n",
    "                       transform=transforms.Compose([\n",
    "                           transforms.ToTensor()\n",
    "                       ]))\n",
    "\n",
    "test = datasets.MNIST('', train=False, download=True,\n",
    "                       transform=transforms.Compose([\n",
    "                           transforms.ToTensor()\n",
    "                       ]))"
   ]
  },
  {
   "cell_type": "code",
   "execution_count": 23,
   "id": "0bc279a7-1bb6-4bbb-ba21-5238ab32f92c",
   "metadata": {},
   "outputs": [],
   "source": [
    "trainset = torch.utils.data.DataLoader(train, batch_size=10, shuffle=True)\n",
    "testset = torch.utils.data.DataLoader(test, batch_size=10, shuffle=False)"
   ]
  },
  {
   "cell_type": "code",
   "execution_count": 24,
   "id": "c0b51ee4-faa9-4a22-bb6a-cf874d5932b7",
   "metadata": {},
   "outputs": [
    {
     "name": "stdout",
     "output_type": "stream",
     "text": [
      "tensor([1, 4, 4, 8, 2, 1, 2, 5, 7, 4])\n"
     ]
    },
    {
     "data": {
      "image/png": "[encoded data removed]",
      "text/plain": [
       "<Figure size 640x480 with 1 Axes>"
      ]
     },
     "metadata": {},
     "output_type": "display_data"
    }
   ],
   "source": [
    "import matplotlib.pyplot as plt\n",
    "for data in trainset:\n",
    "    x, y = data\n",
    "    print(y)\n",
    "    \n",
    "    # Take the first image from the batch and visualize it\n",
    "    img = x[0]\n",
    "    plt.imshow(img.squeeze(), cmap='gray')\n",
    "    plt.show()\n",
    "    break  # Remove this break statement to visualize more images\n"
   ]
  },
  {
   "cell_type": "markdown",
   "id": "f741668d-949a-4f21-8abe-fa02e83c51bc",
   "metadata": {},
   "source": [
    "## Building Nueral Network"
   ]
  },
  {
   "cell_type": "code",
   "execution_count": 25,
   "id": "19e50cc1-ef02-4e62-a78b-f75ef85f34d8",
   "metadata": {},
   "outputs": [],
   "source": [
    "import torch.nn as nn\n",
    "import torch.nn.functional as F"
   ]
  },
  {
   "cell_type": "code",
   "execution_count": 38,
   "id": "b796b294-f713-4817-84d0-bc9488ac7bee",
   "metadata": {},
   "outputs": [
    {
     "name": "stdout",
     "output_type": "stream",
     "text": [
      "Net(\n",
      "  (fc1): Linear(in_features=784, out_features=64, bias=True)\n",
      "  (fc2): Linear(in_features=64, out_features=64, bias=True)\n",
      "  (fc3): Linear(in_features=64, out_features=64, bias=True)\n",
      "  (fc4): Linear(in_features=64, out_features=10, bias=True)\n",
      ")\n"
     ]
    }
   ],
   "source": [
    "class Net(nn.Module):\n",
    "    def __init__(self):\n",
    "        super().__init__()\n",
    "        self.fc1 = nn.Linear(28*28, 64)\n",
    "        self.fc2 = nn.Linear(64, 64)\n",
    "        self.fc3 = nn.Linear(64, 64)\n",
    "        self.fc4 = nn.Linear(64, 10)\n",
    "\n",
    "    def forward(self, x):\n",
    "        x = F.relu(self.fc1(x))\n",
    "        x = F.relu(self.fc2(x))\n",
    "        x = F.relu(self.fc3(x))\n",
    "        x = self.fc4(x)\n",
    "        return F.log_softmax(x, dim=1)\n",
    "\n",
    "net = Net()\n",
    "print(net)\n",
    "        "
   ]
  },
  {
   "cell_type": "code",
   "execution_count": 39,
   "id": "c8645b42-2f2d-41dd-ac33-2b81f6ae27b4",
   "metadata": {},
   "outputs": [
    {
     "name": "stdout",
     "output_type": "stream",
     "text": [
      "tensor([[-2.1339, -2.3907, -2.2351, -2.2992, -2.4206, -2.4782, -2.1840, -2.1986,\n",
      "         -2.3424, -2.4041]], grad_fn=<LogSoftmaxBackward0>)\n"
     ]
    }
   ],
   "source": [
    "x = torch.rand((28,28))\n",
    "print(net.forward(x.view(-1,28*28)))"
   ]
  },
  {
   "cell_type": "markdown",
   "id": "c29cb019-4379-49cf-bcfe-69fadffe2091",
   "metadata": {},
   "source": [
    "## Gradients\n",
    "\n",
    "The `net.zero_grad()` function is a crucial step in the training loop of a neural network using PyTorch. To understand its importance, let's break down what it does and why it's necessary:\n",
    "\n",
    "### What `net.zero_grad()` Does:\n",
    "`net.zero_grad()` resets the gradients of all the model parameters to zero. In PyTorch, the gradients are accumulated by default, which means that they are not automatically reset after each backward pass (backpropagation). Instead, they are added to the existing gradients.\n",
    "\n",
    "### Why Zeroing Gradients is Necessary:\n",
    "During the training of a neural network, the following steps are typically performed in each iteration of the training loop:\n",
    "1. **Forward Pass**: Compute the model's output for the given input data.\n",
    "2. **Compute Loss**: Calculate the loss (error) between the model's output and the true labels.\n",
    "3. **Backward Pass**: Perform backpropagation to compute the gradients of the loss with respect to the model parameters.\n",
    "4. **Update Parameters**: Update the model parameters using the computed gradients.\n",
    "\n",
    "If you do not zero the gradients before the backward pass, the gradients from the previous batch will be accumulated with the gradients from the current batch. This will lead to incorrect updates of the model parameters because the gradients will not reflect the true gradient of the loss for the current batch. \n",
    "\n",
    "### Example Training Loop:\n",
    "Here is how the training loop should look including `net.zero_grad()` and the other steps mentioned:\n",
    "\n",
    "```python\n",
    "import torch.optim as optim\n",
    "\n",
    "optimizer = optim.Adam(net.parameters(), lr=0.001)\n",
    "criterion = torch.nn.CrossEntropyLoss()  # Assuming a classification task\n",
    "\n",
    "epochs = 5\n",
    "\n",
    "for epoch in range(epochs):\n",
    "    for data in trainset:\n",
    "        inputs, labels = data\n",
    "        \n",
    "        optimizer.zero_grad()  # Zero the gradients\n",
    "        outputs = net(inputs)  # Forward pass\n",
    "        loss = criterion(outputs, labels)  # Compute loss\n",
    "        loss.backward()  # Backward pass (compute gradients)\n",
    "        optimizer.step()  # Update parameters\n",
    "```\n",
    "\n",
    "### Key Points:\n",
    "1. **Forward Pass**: `outputs = net(inputs)` computes the model's predictions.\n",
    "2. **Compute Loss**: `loss = criterion(outputs, labels)` calculates the loss.\n",
    "3. **Backward Pass**: `loss.backward()` computes the gradients of the loss with respect to each parameter.\n",
    "4. **Update Parameters**: `optimizer.step()` updates the model parameters using the computed gradients.\n",
    "5. **Zero Gradients**: `optimizer.zero_grad()` or `net.zero_grad()` resets the gradients before the next iteration.\n",
    "\n",
    "### Why Use `optimizer.zero_grad()` Instead of `net.zero_grad()`:\n",
    "- `optimizer.zero_grad()` is preferred because it ensures that gradients of all the parameters that the optimizer is responsible for are zeroed out. This is especially useful if you have multiple optimizers or if not all parameters of the model are being optimized by a single optimizer.\n",
    "- If you use `net.zero_grad()`, it will zero out the gradients of all parameters in `net`, regardless of whether they are being optimized by the current optimizer. \n",
    "\n",
    "In most cases, both will work fine if you are dealing with a single model and a single optimizer. However, using `optimizer.zero_grad()` is generally recommended for clarity and safety in more complex setups."
   ]
  },
  {
   "cell_type": "code",
   "execution_count": 40,
   "id": "07b3f4be-0fd7-482c-abf5-3850a715bae1",
   "metadata": {},
   "outputs": [
    {
     "name": "stdout",
     "output_type": "stream",
     "text": [
      "Loss: tensor(0.1540, grad_fn=<NllLossBackward0>)\n",
      "Loss: tensor(0.2820, grad_fn=<NllLossBackward0>)\n",
      "Loss: tensor(0.0023, grad_fn=<NllLossBackward0>)\n"
     ]
    }
   ],
   "source": [
    "import torch.optim as optim\n",
    "\n",
    "optimizer = optim.Adam(net.parameters(),lr=0.001)\n",
    "\n",
    "epochs = 3\n",
    "\n",
    "for epoch in range(epochs):\n",
    "    for data in trainset:\n",
    "        x,y = data\n",
    "        net.zero_grad()\n",
    "        output = net(x.view(-1,28*28))\n",
    "        loss = F.nll_loss(output,y)\n",
    "        loss.backward()\n",
    "        optimizer.step()\n",
    "    print(\"Loss:\",loss)\n",
    "        \n",
    "        "
   ]
  },
  {
   "cell_type": "code",
   "execution_count": 47,
   "id": "06a2b834-9f60-45d6-9f0c-c2d5c33a79ac",
   "metadata": {},
   "outputs": [
    {
     "name": "stdout",
     "output_type": "stream",
     "text": [
      "Accuracy:  0.971\n"
     ]
    }
   ],
   "source": [
    "correct = 0\n",
    "total = 0\n",
    "\n",
    "with torch.no_grad(): # don't calculate gradients here\n",
    "    for data in testset:\n",
    "        x,y = data \n",
    "        output = net(x.view(-1,28*28))\n",
    "        for idx,i in enumerate(output):\n",
    "            if torch.argmax(i)==y[idx]:\n",
    "                correct+=1\n",
    "            total+=1\n",
    "print(\"Accuracy: \",round(correct/total,3))"
   ]
  },
  {
   "cell_type": "code",
   "execution_count": 48,
   "id": "712c45ee-6ea2-4c16-977e-02bb991fbfb1",
   "metadata": {},
   "outputs": [
    {
     "name": "stdout",
     "output_type": "stream",
     "text": [
      "9707 10000\n"
     ]
    }
   ],
   "source": [
    "print(correct,total)"
   ]
  },
  {
   "cell_type": "markdown",
   "id": "39ee21d0-6a0f-4786-ac44-0b0a1cf40dd5",
   "metadata": {},
   "source": [
    "## Convolution Nueral Networks"
   ]
  },
  {
   "cell_type": "code",
   "execution_count": null,
   "id": "da1e384c-1a54-424f-a509-b96ad4f4b73f",
   "metadata": {},
   "outputs": [],
   "source": []
  }
 ],
 "metadata": {
  "kernelspec": {
   "display_name": "Python 3 (ipykernel)",
   "language": "python",
   "name": "python3"
  },
  "language_info": {
   "codemirror_mode": {
    "name": "ipython",
    "version": 3
   },
   "file_extension": ".py",
   "mimetype": "text/x-python",
   "name": "python",
   "nbconvert_exporter": "python",
   "pygments_lexer": "ipython3",
   "version": "3.11.3"
  }
 },
 "nbformat": 4,
 "nbformat_minor": 5
}
